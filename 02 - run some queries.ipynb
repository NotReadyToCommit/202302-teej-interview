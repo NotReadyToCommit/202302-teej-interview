{
 "cells": [
  {
   "attachments": {},
   "cell_type": "markdown",
   "metadata": {},
   "source": [
    "## Get Connected"
   ]
  },
  {
   "cell_type": "code",
   "execution_count": null,
   "metadata": {},
   "outputs": [],
   "source": [
    "import duckdb"
   ]
  },
  {
   "cell_type": "code",
   "execution_count": null,
   "metadata": {},
   "outputs": [],
   "source": [
    "con = duckdb.connect('tables/file.db')\n",
    "\n",
    "con.sql(\"DROP TABLE IF EXISTS teams\")\n",
    "con.sql(\"DROP TABLE IF EXISTS matches\")\n",
    "con.sql(\"DROP TABLE IF EXISTS purchases\")\n",
    "con.sql(\"DROP TABLE IF EXISTS marketing\")\n",
    "\n",
    "con.sql(\"CREATE TABLE teams AS SELECT * FROM read_csv_auto('tables/teams.csv')\")\n",
    "con.sql(\"CREATE TABLE matches AS SELECT * FROM read_csv_auto('tables/matches.csv')\")\n",
    "con.sql(\"CREATE TABLE purchases AS SELECT * FROM read_csv_auto('tables/purchases.csv')\")\n",
    "con.sql(\"CREATE TABLE marketing AS SELECT * FROM read_csv_auto('tables/marketing.csv')\")\n",
    "\n"
   ]
  },
  {
   "cell_type": "code",
   "execution_count": null,
   "metadata": {},
   "outputs": [],
   "source": [
    "con.query(\"\"\"DESCRIBE\"\"\")"
   ]
  },
  {
   "attachments": {},
   "cell_type": "markdown",
   "metadata": {},
   "source": [
    "## Q1"
   ]
  },
  {
   "cell_type": "code",
   "execution_count": null,
   "metadata": {},
   "outputs": [],
   "source": []
  },
  {
   "attachments": {},
   "cell_type": "markdown",
   "metadata": {},
   "source": [
    "## Q1.5"
   ]
  },
  {
   "cell_type": "code",
   "execution_count": null,
   "metadata": {},
   "outputs": [],
   "source": []
  },
  {
   "attachments": {},
   "cell_type": "markdown",
   "metadata": {},
   "source": [
    "## Q2"
   ]
  },
  {
   "cell_type": "code",
   "execution_count": null,
   "metadata": {},
   "outputs": [],
   "source": []
  },
  {
   "attachments": {},
   "cell_type": "markdown",
   "metadata": {},
   "source": [
    "## Q3"
   ]
  },
  {
   "cell_type": "code",
   "execution_count": null,
   "metadata": {},
   "outputs": [],
   "source": []
  },
  {
   "attachments": {},
   "cell_type": "markdown",
   "metadata": {},
   "source": [
    "## shut it down"
   ]
  },
  {
   "cell_type": "code",
   "execution_count": null,
   "metadata": {},
   "outputs": [],
   "source": [
    "con.close()"
   ]
  }
 ],
 "metadata": {
  "kernelspec": {
   "display_name": ".venv",
   "language": "python",
   "name": "python3"
  },
  "language_info": {
   "codemirror_mode": {
    "name": "ipython",
    "version": 3
   },
   "file_extension": ".py",
   "mimetype": "text/x-python",
   "name": "python",
   "nbconvert_exporter": "python",
   "pygments_lexer": "ipython3",
   "version": "3.10.8 (tags/v3.10.8:aaaf517, Oct 11 2022, 16:50:30) [MSC v.1933 64 bit (AMD64)]"
  },
  "orig_nbformat": 4,
  "vscode": {
   "interpreter": {
    "hash": "ca5e88702042e1c884e22d3ab21c1ddf4bdcfc8b32e1ad58fcb3bdbdcba79052"
   }
  }
 },
 "nbformat": 4,
 "nbformat_minor": 2
}
