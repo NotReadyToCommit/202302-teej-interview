{
 "cells": [
  {
   "attachments": {},
   "cell_type": "markdown",
   "metadata": {},
   "source": [
    "## uncomment this and run in the terminal if you need a venv\n",
    "\n",
    "<!-- create the venv -->\n",
    "<!-- Set-ExecutionPolicy -ExecutionPolicy RemoteSigned -Scope Process -->\n",
    "<!-- py -m venv .venv -->\n",
    "<!-- .venv\\scripts\\activate -->\n",
    "<!-- py -m pip install --upgrade pip -->\n",
    "<!-- py -m pip install Faker -->\n",
    "<!-- py -m pip install datetime -->\n",
    "<!-- py -m pip install pandas -->\n",
    "<!-- py -m pip install numpy -->\n",
    "<!-- py -m pip install duckdb==0.7.0 -->\n",
    "\n",
    "<!-- pip list -->"
   ]
  },
  {
   "attachments": {},
   "cell_type": "markdown",
   "metadata": {},
   "source": [
    "## Import some packages"
   ]
  },
  {
   "cell_type": "code",
   "execution_count": 227,
   "metadata": {},
   "outputs": [],
   "source": [
    "import pandas as pd\n",
    "# pd.set_option('display.max_rows', 100)\n",
    "import random\n",
    "import names\n",
    "import numpy as np\n",
    "import datetime\n",
    "from faker import Faker\n",
    "\n",
    "# fake date source: https://stackoverflow.com/questions/553303/generate-a-random-date-between-two-other-dates\n",
    "\n",
    "# uncomment and use your favorite seed if you want it to be reproducible\n",
    "# random.seed(94025)\n",
    "# Faker.seed(94025)\n",
    "fake = Faker()"
   ]
  },
  {
   "attachments": {},
   "cell_type": "markdown",
   "metadata": {},
   "source": [
    "## Make Q1 tables"
   ]
  },
  {
   "cell_type": "code",
   "execution_count": 228,
   "metadata": {},
   "outputs": [],
   "source": [
    "team_count = 50\n",
    "team_names = []\n",
    "\n",
    "for i in range(0,team_count):\n",
    "    team_names.append(\"Team \" + fake.last_name())\n",
    "\n",
    "# bonus points if the interviewee asks whether they're distinct\n",
    "# if you want another layer of complexity, comment out the next line for a random chance of duplicate teams\n",
    "team_names = np.unique(team_names)\n",
    "\n",
    "q1_table_teams = pd.DataFrame({\"id\":list(range(1,len(team_names)+1)),\n",
    "                     \"team\":team_names})\n"
   ]
  },
  {
   "cell_type": "code",
   "execution_count": 229,
   "metadata": {},
   "outputs": [],
   "source": [
    "match_count = 100\n",
    "match_participants = []\n",
    "\n",
    "for i in range(0,match_count):\n",
    "    match_participants.append(random.sample(sorted(q1_table_teams['id']), 2))\n",
    "\n",
    "q1_table_matches = pd.DataFrame({\"match_id\":list(range(1,len(match_participants)+1)),\n",
    "                       \"winner\":[z[0] for z in match_participants],\n",
    "                       \"loser\":[z[1] for z in match_participants]})\n",
    "\n",
    "# this could use some data quality checks, e.g. \n",
    "#   make sure everyone plays at least a few games\n"
   ]
  },
  {
   "attachments": {},
   "cell_type": "markdown",
   "metadata": {},
   "source": [
    "## Make Q2 tables"
   ]
  },
  {
   "cell_type": "code",
   "execution_count": 230,
   "metadata": {},
   "outputs": [],
   "source": [
    "customer_count = 100\n",
    "number_of_purchases = 10000\n",
    "\n",
    "customer_names = []\n",
    "purchase_dates = []\n",
    "purchasing_customers = []\n",
    "purchased_items = []\n",
    "\n",
    "# start by faking some names\n",
    "for i in range(0,customer_count):\n",
    "    customer_names.append(fake.name())\n",
    "customer_names = np.unique(customer_names)\n",
    "\n",
    "# now let's fake some purchases, then assign a random customer name and item\n",
    "for i in range(0,number_of_purchases):\n",
    "    purchase_dates.append(fake.date_between(start_date='-180d', end_date='today').isoformat())\n",
    "    purchasing_customers.append(random.sample(sorted(customer_names), 1)[0])\n",
    "    purchased_items.append(random.sample(['Widget 1','Widget 2','Widget 3'], 1)[0])\n",
    "\n",
    "q2_table_purchases = pd.DataFrame({\"date\":purchase_dates,\n",
    "                                   \"customer\":purchasing_customers,\n",
    "                                   \"item\":purchased_items})"
   ]
  },
  {
   "cell_type": "code",
   "execution_count": 231,
   "metadata": {},
   "outputs": [],
   "source": [
    "non_customer_count = 100\n",
    "total_number_of_touches = 100000 # trying to keep this accessible so someone could replicate in excel if needed\n",
    "channels = ['Direct','Email','Organic','Referral','Unknown'] # ???\n",
    "\n",
    "touched_customer_names = []\n",
    "non_customer_names = []\n",
    "touch_dates = []\n",
    "touch_channels = []\n",
    "\n",
    "# just to keep it fun, there should be some marketing touches that didn't convert/end up in the purchases table\n",
    "for i in range(0,non_customer_count):\n",
    "    non_customer_names.append(fake.name())\n",
    "\n",
    "# we already removed duplicates from `customers` but\n",
    "#   there could be duplicates in non_customers\n",
    "#   there could also be overlap between the two sets\n",
    "# so just to be safe:\n",
    "all_customers = np.unique(list(set(non_customer_names).union(set(customer_names))))\n",
    "\n",
    "\n",
    "for i in range(0,total_number_of_touches):\n",
    "    touch_dates.append(fake.date_between(start_date='-180d', end_date='today').isoformat())\n",
    "    touched_customer_names.append(random.sample(sorted(all_customers), 1)[0])\n",
    "    touch_channels.append(random.sample(channels, 1)[0])\n",
    "\n",
    "# there's a chance we have no marketing entry before the purchase date\n",
    "# not worth fixing\n",
    "# if someone checks/notices/cares about that, they've probably already passed\n",
    "\n",
    "q3_table_marketing = pd.DataFrame({\"date\":touch_dates,\n",
    "                                   \"customer\":touched_customer_names,\n",
    "                                   \"channel\":touch_channels})\n"
   ]
  },
  {
   "cell_type": "code",
   "execution_count": 234,
   "metadata": {},
   "outputs": [],
   "source": [
    "q1_table_teams.to_csv('tables/teams.csv', index=False)\n",
    "q1_table_matches.to_csv('tables/matches.csv', index=False)\n",
    "q2_table_purchases.to_csv('tables/purchases.csv', index=False)\n",
    "q3_table_marketing.to_csv('tables/marketing.csv', index=False)"
   ]
  }
 ],
 "metadata": {
  "kernelspec": {
   "display_name": ".venv",
   "language": "python",
   "name": "python3"
  },
  "language_info": {
   "codemirror_mode": {
    "name": "ipython",
    "version": 3
   },
   "file_extension": ".py",
   "mimetype": "text/x-python",
   "name": "python",
   "nbconvert_exporter": "python",
   "pygments_lexer": "ipython3",
   "version": "3.10.8"
  },
  "orig_nbformat": 4,
  "vscode": {
   "interpreter": {
    "hash": "ca5e88702042e1c884e22d3ab21c1ddf4bdcfc8b32e1ad58fcb3bdbdcba79052"
   }
  }
 },
 "nbformat": 4,
 "nbformat_minor": 2
}
